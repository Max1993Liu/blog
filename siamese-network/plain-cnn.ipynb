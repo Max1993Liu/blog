{
 "cells": [
  {
   "cell_type": "code",
   "execution_count": 2,
   "metadata": {},
   "outputs": [],
   "source": [
    "import tensorflow as tf\n",
    "tf.enable_eager_execution()\n",
    "import glob\n",
    "from PIL import Image"
   ]
  },
  {
   "cell_type": "code",
   "execution_count": 3,
   "metadata": {},
   "outputs": [],
   "source": [
    "from tensorflow import keras\n",
    "import numpy as np\n",
    "import random"
   ]
  },
  {
   "cell_type": "code",
   "execution_count": null,
   "metadata": {},
   "outputs": [],
   "source": []
  },
  {
   "cell_type": "code",
   "execution_count": 4,
   "metadata": {},
   "outputs": [],
   "source": [
    "train_images = glob.glob('./data/DataSets/att_faces/Training/*/*')\n",
    "test_images = glob.glob('./data/DataSets/att_faces/Testing/*/*')"
   ]
  },
  {
   "cell_type": "code",
   "execution_count": 5,
   "metadata": {},
   "outputs": [
    {
     "data": {
      "text/plain": [
       "40"
      ]
     },
     "execution_count": 5,
     "metadata": {},
     "output_type": "execute_result"
    }
   ],
   "source": [
    "import re\n",
    "import itertools\n",
    "\n",
    "def get_label(path):\n",
    "    \"\"\" Get the label (s**) from the file path \"\"\"\n",
    "    try:\n",
    "        return re.search(r'/s[\\d]+/', path).group()[1:-1]\n",
    "    except:\n",
    "        print(path)\n",
    "        raise\n",
    "    \n",
    "# dictionary with label -> A list of file paths under that label\n",
    "dict_train = itertools.groupby(train_images, lambda x: get_label(x))\n",
    "dict_train = {k: list(v) for k, v in dict_train}\n",
    "\n",
    "dict_test = itertools.groupby(test_images, lambda x: get_label(x))\n",
    "dict_test = {k: list(v) for k, v in dict_test}\n",
    "\n",
    "labels = list(dict_train.keys())\n",
    "len(labels)"
   ]
  },
  {
   "cell_type": "code",
   "execution_count": 6,
   "metadata": {},
   "outputs": [],
   "source": [
    "def generate_pair_samples(d, pos_ratio=1, seed=1024):\n",
    "    np.random.seed(seed)\n",
    "    \n",
    "    samples = []\n",
    "    for label in labels:\n",
    "        # positive samples\n",
    "        pos_samples = list(itertools.combinations(d[label], 2))\n",
    "        samples.extend([i + ('1', ) for i in pos_samples])\n",
    "        \n",
    "        # negative samples\n",
    "        n_neg = int(len(pos_samples) / pos_ratio)\n",
    "        for _ in range(n_neg):\n",
    "            a = random.choice(d[label])\n",
    "            l = random.choice([i for i in labels if i != label])\n",
    "            b = random.choice(d[l])\n",
    "            samples.append((a, b, '0'))\n",
    "            \n",
    "    random.shuffle(samples)\n",
    "    return samples"
   ]
  },
  {
   "cell_type": "code",
   "execution_count": 7,
   "metadata": {},
   "outputs": [],
   "source": [
    "from PIL import Image\n",
    "\n",
    "def read_image(file_path):\n",
    "    img = np.asarray(Image.open(file_path))\n",
    "    return img[..., np.newaxis].astype('float32')\n",
    "\n",
    "def preprocess(x):\n",
    "    \"\"\" x is a pair of image path \"\"\"\n",
    "    return read_image(x[0]), read_image(x[1]), int(x[2])"
   ]
  },
  {
   "cell_type": "code",
   "execution_count": 8,
   "metadata": {},
   "outputs": [],
   "source": [
    "def train_generator():\n",
    "    for p in generate_pair_samples(dict_train):\n",
    "        yield preprocess(p)"
   ]
  },
  {
   "cell_type": "code",
   "execution_count": 9,
   "metadata": {},
   "outputs": [],
   "source": [
    "train_dataset = tf.data.Dataset.from_generator(train_generator, (tf.float32, tf.float32, tf.int32))\n",
    "train_dataset = train_dataset.batch(2)"
   ]
  },
  {
   "cell_type": "code",
   "execution_count": 10,
   "metadata": {},
   "outputs": [],
   "source": [
    "sample = next(iter(train_dataset))"
   ]
  },
  {
   "cell_type": "code",
   "execution_count": null,
   "metadata": {},
   "outputs": [],
   "source": []
  },
  {
   "cell_type": "markdown",
   "metadata": {},
   "source": [
    "## building the network"
   ]
  },
  {
   "cell_type": "code",
   "execution_count": 11,
   "metadata": {},
   "outputs": [],
   "source": [
    "class Convnet(keras.Model):\n",
    "    \n",
    "    def __init__(self, filter_size=[15, 30, 30], **kwargs):\n",
    "        super().__init__(**kwargs)\n",
    "        self.conv1 = keras.layers.Conv2D(filters=filter_size[0], kernel_size=5)\n",
    "        self.pool1 = keras.layers.MaxPooling2D()\n",
    "        self.conv2 = keras.layers.Conv2D(filters=filter_size[1], kernel_size=5)\n",
    "        self.pool2 = keras.layers.MaxPooling2D()\n",
    "        self.conv3 = keras.layers.Conv2D(filters=filter_size[2], kernel_size=5)\n",
    "        self.pool3 = keras.layers.MaxPool2D()\n",
    "        self.flatten = keras.layers.Flatten()\n",
    "        self.fc1 = keras.layers.Dense(30)\n",
    "        \n",
    "    def call(self, img):\n",
    "        for layer in [self.conv1, self.pool1, self.conv2, self.pool2, self.conv3, self.pool3, \n",
    "                      self.flatten, self.fc1]:\n",
    "            img = layer(img)\n",
    "        return img\n",
    "    \n",
    "    def calculate_dist(self, a, b):\n",
    "        \"\"\" Calculate the l2 distance between the vector representation of image a and b \n",
    "            output shape [batch_size, ]\n",
    "        \"\"\"\n",
    "        encoded_a, encoded_b = self.call(a), self.call(b)\n",
    "        return tf.reduce_mean(tf.square(encoded_a - encoded_b), axis=1)\n",
    "    \n",
    "    def calcualte_loss(self, a, b, label):\n",
    "        dist = self.calculate_dist(a, b)\n",
    "        return tf.reduce_mean(tf.cast(1-label, dist.dtype) * dist)"
   ]
  },
  {
   "cell_type": "code",
   "execution_count": null,
   "metadata": {},
   "outputs": [],
   "source": []
  },
  {
   "cell_type": "code",
   "execution_count": 67,
   "metadata": {},
   "outputs": [],
   "source": [
    "train_dataset = tf.data.Dataset.from_generator(train_generator, (tf.float32, tf.float32, tf.int32))\n",
    "# train_dataset = train_dataset.shuffle(1000)\n",
    "train_dataset = train_dataset.batch(32)"
   ]
  },
  {
   "cell_type": "code",
   "execution_count": 66,
   "metadata": {},
   "outputs": [],
   "source": [
    "convnet = Convnet()\n",
    "opt = tf.train.AdamOptimizer()"
   ]
  },
  {
   "cell_type": "code",
   "execution_count": 14,
   "metadata": {},
   "outputs": [
    {
     "name": "stdout",
     "output_type": "stream",
     "text": [
      "0 tf.Tensor(214.14368, shape=(), dtype=float32)\n",
      "10 tf.Tensor(10.417885, shape=(), dtype=float32)\n",
      "20 tf.Tensor(10.4138155, shape=(), dtype=float32)\n",
      "30 tf.Tensor(4.8037114, shape=(), dtype=float32)\n",
      "40 tf.Tensor(3.4356508, shape=(), dtype=float32)\n",
      "50 tf.Tensor(2.1982093, shape=(), dtype=float32)\n",
      "60 tf.Tensor(1.9420372, shape=(), dtype=float32)\n",
      "70 tf.Tensor(1.5033114, shape=(), dtype=float32)\n",
      "80 tf.Tensor(1.7282585, shape=(), dtype=float32)\n"
     ]
    }
   ],
   "source": [
    "# the training loop\n",
    "N_EPOCH = 1\n",
    "N_STEP = 5\n",
    "\n",
    "for epoch in range(N_EPOCH):\n",
    "    for step, (img_a, img_b, label) in enumerate(train_dataset):\n",
    "        loss = convnet.calcualte_loss(img_a, img_b, label)\n",
    "        \n",
    "        with tf.GradientTape() as tape:\n",
    "            loss = convnet.calcualte_loss(img_a, img_b, label)\n",
    "\n",
    "        gradients = tape.gradient(loss, convnet.trainable_variables)\n",
    "        opt.apply_gradients(zip(gradients, convnet.trainable_variables))\n",
    "        \n",
    "        if step % 10 == 0:\n",
    "            print(step, loss)"
   ]
  },
  {
   "cell_type": "code",
   "execution_count": null,
   "metadata": {},
   "outputs": [],
   "source": []
  },
  {
   "cell_type": "code",
   "execution_count": null,
   "metadata": {},
   "outputs": [],
   "source": [
    "def calcualte_dist(path_1, path_2):\n",
    "    img_1, img_2 = read_image(path_1), read_image(path_2)\n",
    "    dist = convnet.calculate_dist(np.expand_dims(img_1, 0), np.expand_dims(img_2, 0))\n",
    "    return dist.numpy()[0]\n",
    "    \n",
    "calcualte_dist(train_images[0], train_images[15])"
   ]
  },
  {
   "cell_type": "code",
   "execution_count": 65,
   "metadata": {},
   "outputs": [
    {
     "data": {
      "image/png": "[encoded data removed]",
      "text/plain": [
       "<PIL.PpmImagePlugin.PpmImageFile image mode=L size=92x112 at 0x126D82470>"
      ]
     },
     "execution_count": 65,
     "metadata": {},
     "output_type": "execute_result"
    },
    {
     "data": {
      "image/png": "[encoded data removed]",
      "text/plain": [
       "<PIL.PpmImagePlugin.PpmImageFile image mode=L size=92x112 at 0x129411DD8>"
      ]
     },
     "execution_count": 65,
     "metadata": {},
     "output_type": "execute_result"
    }
   ],
   "source": [
    "Image.open(train_images[0])\n",
    "Image.open(train_images[3])"
   ]
  },
  {
   "cell_type": "code",
   "execution_count": null,
   "metadata": {},
   "outputs": [],
   "source": []
  },
  {
   "cell_type": "code",
   "execution_count": null,
   "metadata": {},
   "outputs": [],
   "source": []
  },
  {
   "cell_type": "code",
   "execution_count": null,
   "metadata": {},
   "outputs": [],
   "source": []
  }
 ],
 "metadata": {
  "kernelspec": {
   "display_name": "tf1.8",
   "language": "python",
   "name": ".venv"
  },
  "language_info": {
   "codemirror_mode": {
    "name": "ipython",
    "version": 3
   },
   "file_extension": ".py",
   "mimetype": "text/x-python",
   "name": "python",
   "nbconvert_exporter": "python",
   "pygments_lexer": "ipython3",
   "version": "3.6.8"
  }
 },
 "nbformat": 4,
 "nbformat_minor": 2
}
