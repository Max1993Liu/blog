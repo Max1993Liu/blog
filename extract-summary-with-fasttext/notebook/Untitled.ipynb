{
 "cells": [
  {
   "cell_type": "code",
   "execution_count": 22,
   "metadata": {},
   "outputs": [
    {
     "name": "stdout",
     "output_type": "stream",
     "text": [
      "Requirement already satisfied: jieba in c:\\users\\liuzhehao\\appdata\\local\\continuum\\anaconda3\\lib\\site-packages (0.39)\n"
     ]
    },
    {
     "name": "stderr",
     "output_type": "stream",
     "text": [
      "WARNING: You are using pip version 19.2.3, however version 19.3.1 is available.\n",
      "You should consider upgrading via the 'python -m pip install --upgrade pip' command.\n"
     ]
    }
   ],
   "source": [
    "!pip install jieba"
   ]
  },
  {
   "cell_type": "code",
   "execution_count": 2,
   "metadata": {},
   "outputs": [],
   "source": [
    "import numpy as np\n",
    "import json\n",
    "import jieba"
   ]
  },
  {
   "cell_type": "code",
   "execution_count": null,
   "metadata": {},
   "outputs": [],
   "source": []
  },
  {
   "cell_type": "markdown",
   "metadata": {},
   "source": [
    "# Load word vectors"
   ]
  },
  {
   "cell_type": "code",
   "execution_count": 124,
   "metadata": {},
   "outputs": [],
   "source": [
    "# functions to load the vectors\n",
    "import io\n",
    "\n",
    "def load_vectors(fname, limit=50):\n",
    "    fin = io.open(fname, 'r', encoding='utf-8', newline='\\n', errors='ignore')\n",
    "    n, d = map(int, fin.readline().split())\n",
    "    data = {}\n",
    "    for i, line in enumerate(fin):\n",
    "        if n is not None and i >= limit:\n",
    "            break\n",
    "        tokens = line.rstrip().split(' ')\n",
    "        data[tokens[0]] = np.array([float(i) for i in tokens[1:]])\n",
    "    return data"
   ]
  },
  {
   "cell_type": "code",
   "execution_count": 8,
   "metadata": {},
   "outputs": [
    {
     "data": {
      "text/plain": [
       "{'，': array([ 8.000e-03,  3.360e-02,  5.720e-01, -1.105e-01, -2.000e-02,\n",
       "         1.950e-02, -1.290e-02, -2.580e-02,  2.490e-02, -1.000e-03,\n",
       "         1.820e-02, -7.400e-03, -2.880e-02, -1.160e-02, -3.550e-02,\n",
       "         4.820e-02,  4.110e-02,  8.000e-04,  2.610e-02, -3.870e-02,\n",
       "         1.040e-02, -3.500e-03,  7.150e-02, -1.000e-04, -3.970e-02,\n",
       "        -3.530e-02,  5.460e-02, -4.620e-02, -4.390e-02,  6.210e-02,\n",
       "        -2.760e-02,  1.510e-02, -5.280e-02, -1.600e-03,  7.400e-03,\n",
       "        -3.120e-02,  3.200e-03, -8.430e-02, -6.980e-02, -3.090e-02,\n",
       "         1.780e-02,  8.100e-03, -2.030e-02,  1.040e-02, -1.739e-01,\n",
       "        -8.100e-03, -9.520e-02, -1.180e-02,  2.110e-02,  2.140e-02,\n",
       "        -3.240e-02,  8.500e-03, -1.140e-02, -4.785e-01, -2.160e-02,\n",
       "         4.690e-02, -2.600e-03,  1.520e-02, -4.380e-02,  5.540e-02,\n",
       "        -4.410e-02, -2.560e-02, -8.400e-03, -1.210e-02, -3.720e-02,\n",
       "        -1.090e-02,  7.040e-02,  2.080e-02, -4.570e-02, -2.520e-02,\n",
       "        -1.150e-02,  4.140e-02,  7.800e-03,  4.510e-02,  3.730e-02,\n",
       "         1.490e-02,  3.730e-02,  9.440e-02,  3.330e-02, -2.000e-03,\n",
       "        -1.430e-02, -6.000e-04, -1.780e-02, -5.000e-03,  2.230e-02,\n",
       "         2.200e-03,  9.220e-02,  1.000e-04,  4.130e-02,  1.150e-02,\n",
       "        -2.390e-02, -2.020e-02, -1.420e-02,  1.350e-02,  2.530e-02,\n",
       "        -5.560e-02, -2.200e-02, -9.600e-03,  7.300e-03, -9.000e-03,\n",
       "        -3.952e-01,  5.660e-02,  4.000e-03, -3.700e-03,  1.470e-02,\n",
       "         1.250e-02,  3.620e-02,  2.770e-02, -2.260e-02, -1.040e-02,\n",
       "        -3.050e-02,  6.600e-02, -2.320e-02, -5.300e-03, -1.050e-02,\n",
       "        -2.900e-03,  3.700e-03,  6.600e-03, -3.390e-02, -7.580e-02,\n",
       "         6.860e-02,  2.730e-02, -3.380e-02, -1.980e-02, -3.100e-02,\n",
       "        -3.150e-02,  4.560e-02,  4.220e-02, -4.500e-03, -4.500e-03,\n",
       "         1.647e-01,  2.840e-02, -1.980e-02, -2.380e-02,  1.970e-02,\n",
       "        -3.000e-04,  7.400e-02,  1.350e-02,  2.430e-02, -1.015e-01,\n",
       "         2.120e-02,  5.130e-02, -6.840e-02, -1.160e-02, -2.400e-03,\n",
       "        -3.560e-02, -8.000e-03, -3.130e-02, -3.510e-02, -1.670e-02,\n",
       "        -3.610e-02,  5.890e-02, -6.830e-02,  7.300e-03, -4.470e-02,\n",
       "        -7.800e-03,  1.860e-02,  1.590e-02, -3.400e-03, -5.680e-02,\n",
       "         1.100e-02, -2.000e-02, -9.900e-03, -1.800e-02, -3.920e-02,\n",
       "        -3.210e-02, -1.600e-03,  9.700e-03,  4.250e-02,  3.770e-02,\n",
       "        -7.800e-02,  8.000e-04,  2.700e-03,  1.349e-01, -3.810e-02,\n",
       "         3.140e-02, -6.740e-02, -1.670e-02, -1.520e-02,  1.870e-02,\n",
       "         1.190e-02, -3.675e-01,  1.600e-02,  7.900e-03, -1.370e-02,\n",
       "        -1.024e-01, -1.760e-02,  8.400e-03,  1.560e-02,  3.850e-01,\n",
       "         7.500e-03,  2.133e-01, -3.010e-02,  1.020e-02, -2.160e-02,\n",
       "        -1.170e-02,  1.260e-02,  3.010e-02,  4.250e-02,  3.550e-02,\n",
       "         2.850e-02,  2.620e-02, -2.720e-02,  1.000e-04,  2.200e-03,\n",
       "        -2.590e-02, -1.000e-04, -1.600e-03,  4.750e-02, -2.520e-02,\n",
       "        -2.230e-02, -6.540e-02,  4.140e-02,  2.260e-02,  1.640e-02,\n",
       "         3.660e-02, -4.700e-02, -3.300e-02, -5.160e-02,  3.770e-02,\n",
       "        -1.700e-03, -1.780e-02, -4.290e-02, -8.900e-03, -9.550e-02,\n",
       "        -2.320e-02,  3.250e-02,  4.900e-02,  3.100e-02,  1.112e-01,\n",
       "        -3.150e-02,  3.998e-01, -1.700e-03, -2.220e-02, -1.070e-02,\n",
       "        -7.800e-03, -1.200e-02,  2.220e-02, -9.000e-03, -8.700e-03,\n",
       "        -1.230e-02, -3.000e-02,  1.970e-02,  2.010e-02,  2.500e-03,\n",
       "        -1.470e-02,  2.090e-02, -2.100e-03,  2.000e-03, -7.120e-02,\n",
       "        -1.260e-02,  2.640e-02, -6.600e-03,  1.750e-02, -4.700e-03,\n",
       "         1.840e-02, -1.700e-03,  4.910e-02,  5.110e-02, -1.580e-02,\n",
       "         1.100e-02, -1.190e-02,  1.550e-02,  3.210e-02,  2.860e-02,\n",
       "        -1.230e-02,  2.670e-02,  8.000e-04, -1.290e-02,  1.000e-04,\n",
       "         3.920e-02,  2.860e-02, -2.100e-03, -1.740e-02,  1.760e-02,\n",
       "         1.274e-01,  8.340e-02,  7.030e-02,  4.530e-02,  1.350e-02,\n",
       "        -2.507e-01,  1.832e-01, -4.410e-02, -1.480e-01, -2.120e-02,\n",
       "         1.120e-02, -8.800e-03,  2.090e-02, -3.780e-02,  3.970e-02,\n",
       "        -4.800e-03, -2.000e-04,  7.080e-02,  1.200e-03, -3.680e-02,\n",
       "         1.690e-02,  2.300e-02, -1.060e-02,  9.000e-04, -8.500e-03]),\n",
       " '的': array([-1.190e-02,  5.100e-02,  4.397e-01, -4.270e-02, -5.010e-02,\n",
       "        -2.580e-02, -6.000e-03, -6.760e-02, -7.760e-02, -2.910e-02,\n",
       "        -1.050e-02,  2.450e-02, -3.930e-02,  3.200e-02, -1.110e-02,\n",
       "         1.860e-02,  1.370e-02, -4.500e-03,  2.983e-01, -2.470e-02,\n",
       "        -3.000e-04,  2.860e-02,  2.690e-02,  3.340e-02, -2.270e-02,\n",
       "        -6.680e-02,  9.300e-02, -4.710e-02, -2.540e-02,  5.960e-02,\n",
       "        -3.220e-02,  1.520e-02, -3.080e-02,  8.400e-03, -3.400e-03,\n",
       "        -2.900e-03, -1.610e-02, -1.025e-01, -5.790e-02, -4.370e-02,\n",
       "        -1.700e-03, -3.140e-02,  1.790e-02,  1.420e-02,  1.478e-01,\n",
       "        -8.200e-03, -1.265e-01, -4.600e-03,  3.500e-02, -1.760e-02,\n",
       "        -1.240e-02,  7.500e-03,  2.300e-02, -6.317e-01, -2.890e-02,\n",
       "         1.050e-02,  2.930e-02, -4.190e-02, -5.800e-03, -2.020e-02,\n",
       "        -8.800e-03, -2.700e-02, -5.540e-02, -1.010e-02,  1.370e-02,\n",
       "        -4.770e-02,  1.540e-02, -3.820e-02, -1.980e-02, -3.030e-02,\n",
       "         3.690e-02,  8.740e-02,  1.300e-02,  4.250e-02,  1.290e-02,\n",
       "        -1.000e-04,  5.630e-02,  6.140e-02,  1.800e-02, -4.050e-02,\n",
       "         3.280e-02,  4.740e-02,  2.500e-02, -2.640e-02,  1.570e-02,\n",
       "         1.800e-02,  6.220e-02, -3.560e-02, -2.410e-02,  1.892e-01,\n",
       "         1.045e-01, -4.950e-02, -4.120e-02,  2.750e-02,  4.600e-03,\n",
       "        -4.280e-02,  2.400e-03,  2.190e-02,  4.150e-02,  4.850e-02,\n",
       "        -1.524e-01, -2.430e-02,  8.500e-03,  1.101e-01,  3.530e-01,\n",
       "         5.100e-03,  8.000e-03, -2.000e-04, -1.490e-02,  1.850e-02,\n",
       "        -7.300e-03,  1.890e-02,  9.580e-02,  4.170e-02,  3.880e-02,\n",
       "         2.020e-02,  1.020e-02, -4.540e-02, -4.980e-02, -4.030e-02,\n",
       "         1.480e-02, -3.570e-02,  1.400e-02,  9.100e-03,  5.450e-02,\n",
       "        -4.780e-02,  2.050e-02,  7.740e-02,  2.600e-03, -1.200e-02,\n",
       "        -3.010e-02, -4.100e-03, -4.630e-02, -2.660e-02,  2.990e-02,\n",
       "         2.570e-02,  8.940e-02,  1.700e-03, -1.580e-02, -5.520e-02,\n",
       "        -1.710e-02,  6.230e-02, -1.284e-01,  5.600e-03,  5.380e-02,\n",
       "        -6.230e-02, -6.130e-02,  2.910e-02, -2.770e-02, -2.360e-02,\n",
       "         3.220e-02,  4.870e-02, -3.070e-02,  1.110e-01, -7.000e-04,\n",
       "         1.860e-02,  1.790e-02, -5.900e-03,  1.300e-02, -1.050e-01,\n",
       "        -2.640e-02, -1.700e-03, -4.500e-03, -1.930e-02, -1.580e-02,\n",
       "        -2.430e-02,  2.740e-02,  4.160e-02,  5.740e-02,  3.660e-02,\n",
       "        -8.060e-02,  1.700e-03, -3.890e-02,  1.026e-01,  2.770e-02,\n",
       "         5.640e-02, -1.270e-02,  1.510e-02, -1.350e-02,  8.600e-03,\n",
       "        -1.630e-02, -5.472e-01, -7.600e-03,  1.500e-02,  5.500e-03,\n",
       "        -4.330e-02,  2.040e-02,  1.150e-02,  4.880e-02,  4.071e-01,\n",
       "         1.230e-02,  2.970e-02, -4.540e-02,  1.730e-02,  2.650e-02,\n",
       "        -3.350e-02, -1.920e-02,  2.020e-02,  8.870e-02, -7.120e-02,\n",
       "         2.940e-02,  1.000e-02, -8.300e-03,  1.080e-02, -3.890e-02,\n",
       "        -3.000e-03, -6.900e-03,  2.080e-02, -5.010e-02, -5.160e-02,\n",
       "        -2.700e-03,  1.970e-02, -1.040e-02,  1.700e-03, -2.080e-02,\n",
       "         2.520e-02, -2.920e-02, -2.880e-02,  9.300e-03,  4.440e-02,\n",
       "        -7.500e-03,  3.580e-02, -7.900e-03, -1.920e-02, -1.218e-01,\n",
       "        -2.100e-03,  1.460e-02,  5.460e-02,  2.380e-02,  1.482e-01,\n",
       "         4.100e-03,  4.287e-01, -7.000e-03, -3.030e-02,  2.100e-03,\n",
       "         0.000e+00,  4.000e-02,  4.020e-02, -1.850e-02, -6.300e-03,\n",
       "        -4.190e-02, -4.800e-02, -8.100e-03, -3.500e-02, -2.430e-02,\n",
       "        -5.700e-02,  7.810e-02, -4.310e-02, -9.790e-02,  1.655e-01,\n",
       "        -6.000e-02,  2.080e-02,  1.800e-03, -3.130e-02,  1.350e-02,\n",
       "         1.180e-02,  5.150e-02,  5.130e-02,  5.140e-02, -2.530e-02,\n",
       "        -2.430e-02, -3.620e-02, -1.190e-02, -1.300e-03, -2.600e-03,\n",
       "         3.440e-02,  1.580e-02, -5.600e-03, -3.560e-02,  3.530e-02,\n",
       "         3.080e-02,  3.040e-02, -1.050e-02, -2.500e-02, -3.420e-02,\n",
       "         5.400e-02, -9.800e-03,  4.640e-02,  6.430e-02,  1.400e-03,\n",
       "        -1.998e-01,  1.056e-01, -1.140e-02, -1.235e-01,  6.100e-03,\n",
       "         4.300e-03, -4.030e-02, -6.300e-03,  1.638e-01,  7.000e-03,\n",
       "         1.200e-03, -6.190e-02,  2.350e-02, -1.190e-02,  2.803e-01,\n",
       "        -9.000e-03, -7.100e-03, -5.850e-02,  3.690e-02, -2.700e-02]),\n",
       " '。': array([ 9.300e-03,  2.100e-02,  7.688e-01, -3.480e-02, -4.710e-02,\n",
       "         5.400e-02, -3.090e-02, -1.070e-02, -7.530e-02,  2.400e-03,\n",
       "         3.110e-02,  1.600e-02, -2.190e-02,  1.650e-02, -4.410e-02,\n",
       "         7.480e-02,  4.130e-02, -2.000e-04, -2.200e-02, -2.550e-02,\n",
       "        -1.400e-02,  3.120e-02,  4.160e-02, -5.100e-03,  2.180e-02,\n",
       "         1.370e-02,  5.160e-02, -3.580e-02, -3.780e-02,  3.950e-02,\n",
       "        -4.610e-02, -1.410e-02, -4.430e-02, -7.200e-03,  5.980e-02,\n",
       "        -4.800e-02,  2.000e-03, -8.980e-02, -7.830e-02,  1.000e-04,\n",
       "        -4.000e-03, -2.140e-02,  3.850e-02,  3.430e-02, -6.800e-02,\n",
       "         5.700e-03, -9.210e-02,  1.100e-02,  4.210e-02,  1.400e-02,\n",
       "        -2.780e-02,  5.600e-02, -1.130e-02, -5.788e-01, -1.600e-03,\n",
       "         4.000e-02,  1.400e-02,  5.080e-02, -3.300e-02,  1.140e-02,\n",
       "         4.900e-03, -4.860e-02, -5.200e-02,  2.820e-02, -2.480e-02,\n",
       "        -1.680e-02, -2.100e-03, -1.260e-02, -3.700e-02, -5.000e-03,\n",
       "         3.540e-02,  6.900e-02, -1.380e-02,  3.570e-02,  4.820e-02,\n",
       "        -6.800e-03,  3.000e-04,  5.320e-02,  3.860e-02, -3.320e-02,\n",
       "         6.900e-03,  1.110e-02,  1.770e-02,  1.770e-02, -1.830e-02,\n",
       "        -1.250e-02,  2.000e-04, -2.230e-02, -2.950e-02,  5.587e-01,\n",
       "         7.470e-02, -3.020e-02, -9.000e-03,  7.500e-03,  3.320e-02,\n",
       "        -5.550e-02, -3.740e-02,  1.010e-02,  3.420e-02,  3.320e-02,\n",
       "        -4.357e-01,  1.630e-02, -2.250e-02,  6.950e-02,  2.925e-01,\n",
       "        -1.460e-02,  3.680e-02,  3.880e-02, -1.120e-02, -2.300e-03,\n",
       "        -4.880e-02,  3.390e-02, -3.800e-03,  4.420e-02,  2.880e-02,\n",
       "         6.700e-03, -1.300e-03, -1.140e-02, -2.710e-02, -8.430e-02,\n",
       "         9.790e-02,  3.600e-03, -9.500e-03,  2.680e-02,  3.000e-04,\n",
       "        -4.100e-02,  8.020e-02,  2.680e-02, -2.230e-02,  5.200e-03,\n",
       "         1.238e-01,  2.010e-02,  2.800e-03, -1.280e-02,  2.090e-02,\n",
       "         3.160e-02,  3.990e-02,  2.700e-02,  5.370e-02, -1.150e-01,\n",
       "         1.100e-02,  4.110e-02, -2.370e-02,  9.000e-03, -3.020e-02,\n",
       "        -3.350e-02, -2.800e-03, -1.421e-01, -4.140e-02, -2.820e-02,\n",
       "        -5.540e-02,  7.300e-02, -3.410e-02,  2.910e-02, -4.320e-02,\n",
       "         1.500e-02,  3.280e-02,  1.200e-02,  1.220e-02,  1.010e-02,\n",
       "         1.340e-02, -4.890e-02, -6.900e-03, -6.200e-03, -2.580e-02,\n",
       "        -6.910e-02,  1.050e-02,  2.270e-02,  2.020e-02,  1.710e-02,\n",
       "        -2.590e-02,  1.800e-03, -2.400e-03,  1.080e-01, -1.540e-02,\n",
       "         3.840e-02, -4.440e-02, -1.950e-02, -3.700e-02,  9.900e-03,\n",
       "        -3.260e-02, -3.826e-01,  4.200e-03, -5.570e-02,  1.400e-02,\n",
       "        -1.500e-02,  5.300e-03,  5.060e-02,  2.900e-03,  1.761e-01,\n",
       "         1.530e-02,  3.617e-01, -2.000e-02,  3.040e-02,  3.600e-03,\n",
       "         1.200e-02, -7.100e-03,  2.520e-02,  3.240e-02,  6.090e-02,\n",
       "         2.820e-02,  4.000e-04, -3.110e-02,  1.360e-02,  2.930e-02,\n",
       "        -2.300e-02, -3.590e-02,  1.510e-02,  2.200e-02,  9.400e-03,\n",
       "         3.110e-02,  1.250e-02,  6.300e-03,  7.270e-02,  1.800e-02,\n",
       "         5.490e-02, -3.890e-02, -1.860e-02, -2.065e-01, -5.900e-03,\n",
       "        -7.900e-03, -9.780e-02, -7.610e-02,  1.640e-02, -8.300e-02,\n",
       "         1.010e-02,  1.830e-02,  2.000e-04,  2.820e-02,  8.700e-02,\n",
       "         2.800e-03,  3.800e-01, -2.000e-04, -8.950e-02,  1.130e-02,\n",
       "        -2.830e-02,  3.300e-03,  2.030e-02, -9.000e-04, -9.000e-03,\n",
       "        -3.640e-02,  3.800e-03, -1.900e-02,  7.700e-03,  2.150e-02,\n",
       "        -2.580e-02, -3.420e-02,  4.610e-02,  1.990e-02, -1.385e-01,\n",
       "         2.230e-02,  3.910e-02, -2.000e-04,  1.600e-03, -3.500e-03,\n",
       "         9.700e-03,  1.390e-02,  5.020e-02,  2.700e-02, -3.160e-02,\n",
       "         7.040e-02,  2.900e-03,  3.030e-02,  6.200e-03,  9.800e-02,\n",
       "        -3.880e-02,  9.000e-03, -5.000e-04, -3.820e-02, -2.120e-02,\n",
       "         6.210e-02,  2.660e-02, -2.740e-02, -2.330e-02, -2.120e-02,\n",
       "         1.521e-01,  2.850e-02,  4.990e-02,  4.780e-02,  2.320e-02,\n",
       "        -2.323e-01,  1.945e-01, -2.520e-02, -6.230e-02, -9.800e-03,\n",
       "         8.000e-04, -5.600e-02,  1.360e-02,  1.540e-02,  6.930e-02,\n",
       "        -1.410e-02,  7.400e-03,  7.640e-02, -1.350e-02, -3.037e-01,\n",
       "        -1.910e-02,  2.000e-03, -3.360e-02,  1.480e-02, -5.600e-03])}"
      ]
     },
     "execution_count": 8,
     "metadata": {},
     "output_type": "execute_result"
    }
   ],
   "source": [
    "load_vectors('../data/cc.zh.300.vec', limit=2)"
   ]
  },
  {
   "cell_type": "code",
   "execution_count": 19,
   "metadata": {},
   "outputs": [],
   "source": [
    "# take a look at the vectors, the rows are ordered by frequency\n",
    "# vectors = load_vectors('../data/cc.zh.300.vec', limit=5)"
   ]
  },
  {
   "cell_type": "code",
   "execution_count": null,
   "metadata": {},
   "outputs": [],
   "source": []
  },
  {
   "cell_type": "markdown",
   "metadata": {},
   "source": [
    "# dataset"
   ]
  },
  {
   "cell_type": "code",
   "execution_count": 11,
   "metadata": {},
   "outputs": [],
   "source": [
    "import json"
   ]
  },
  {
   "cell_type": "code",
   "execution_count": 190,
   "metadata": {},
   "outputs": [],
   "source": [
    "with open('../data/train_with_summ.txt', 'r', encoding='utf8') as f:\n",
    "    for _ in range(50):\n",
    "        line = json.loads(f.readline().strip())\n",
    "#         print(preprocess_article(line).__len__())"
   ]
  },
  {
   "cell_type": "code",
   "execution_count": 171,
   "metadata": {},
   "outputs": [],
   "source": [
    "import re\n",
    "\n",
    "reporter_at_end = r'\\(.{2,20}\\)$'\n",
    "\n",
    "def preprocess_article(s, \n",
    "                       min_paragraph_length=40,\n",
    "                       min_sentence_length=30):\n",
    "    if isinstance(s, dict):\n",
    "        s = s['article']\n",
    "        \n",
    "    s = re.sub(reporter_at_end, '', s)\n",
    "    # split into paragraphs\n",
    "    paras = [p for p in s.split('<Paragraph>') if len(p) > min_paragraph_length]\n",
    "    # split into sentences\n",
    "    sents = [sent for p in paras for sent in p.split('。') if len(sent) > min_sentence_length]\n",
    "    return sents"
   ]
  },
  {
   "cell_type": "code",
   "execution_count": null,
   "metadata": {},
   "outputs": [],
   "source": []
  },
  {
   "cell_type": "markdown",
   "metadata": {},
   "source": [
    "# embedding"
   ]
  },
  {
   "cell_type": "code",
   "execution_count": 125,
   "metadata": {},
   "outputs": [],
   "source": [
    "# get sentence embedding\n",
    "VOCAB_SIZE = 10000\n",
    "\n",
    "vectors = load_vectors('../data/cc.zh.300.vec', limit=VOCAB_SIZE)"
   ]
  },
  {
   "cell_type": "code",
   "execution_count": 180,
   "metadata": {},
   "outputs": [],
   "source": [
    "from typing import List, Dict\n",
    "import numpy as np\n",
    "\n",
    "def get_embedding_matrix(sents: List[str], vectors: Dict[str, np.array], \n",
    "                         min_match_rate=0.6,\n",
    "                         agg='average'):\n",
    "    \"\"\"Return (\n",
    "        list of embeddings with shape (embedding_size, sentence length), \n",
    "        list of matching rate for each sentence,\n",
    "        list of sentence index)\n",
    "    \"\"\" \n",
    "    match_rate = list()\n",
    "    embeddings = list()\n",
    "    sent_index = list()\n",
    "    \n",
    "    for idx, sent in enumerate(sents):\n",
    "        tokens = list(jieba.cut_for_search(sent))\n",
    "        \n",
    "        n_tokens, n_match, emb = len(tokens), 0, list()\n",
    "        for token in tokens:\n",
    "            if token in vectors:\n",
    "                n_match += 1\n",
    "                emb.append(vectors[token])\n",
    "        \n",
    "        mr = n_match * 1.0 / n_tokens   # match rate of the current sentence\n",
    "        if mr > min_match_rate:\n",
    "            match_rate.append(n_match * 1.0 / n_tokens)\n",
    "            sent_index.append(idx)\n",
    "            \n",
    "            if agg in ('average', 'avg', 'mean'):\n",
    "                embeddings.append(np.average(emb, 0))\n",
    "            elif agg in ('add', 'sum'):\n",
    "                embeddings.append(np.sum(emb, 0))\n",
    "            elif agg in ('max'):\n",
    "                embeddings.append(np.max(emb, 0))\n",
    "            elif agg in ('min'):\n",
    "                embeddings.append(np.min(emb, 0))\n",
    "            else:\n",
    "                raise ValueError('agg method not supported')\n",
    "    \n",
    "    return embeddings, match_rate, sent_index"
   ]
  },
  {
   "cell_type": "code",
   "execution_count": null,
   "metadata": {},
   "outputs": [],
   "source": []
  },
  {
   "cell_type": "code",
   "execution_count": 269,
   "metadata": {},
   "outputs": [],
   "source": [
    "from sklearn.manifold import TSNE\n",
    "from sklearn.pipeline import make_pipeline\n",
    "from sklearn.cluster import AgglomerativeClustering, KMeans, DBSCAN\n",
    "from sklearn.preprocessing import StandardScaler"
   ]
  },
  {
   "cell_type": "code",
   "execution_count": 273,
   "metadata": {},
   "outputs": [],
   "source": [
    "def generate_summary(article: str, n_topic=3, min_len=20):\n",
    "    \"\"\"\n",
    "    :param n_topic: Number of topics in the article. For each topic, a sentence with the closest\n",
    "                    distance will be seleted.\n",
    "    :param min_len: Minimum number of sentences in the article in order to generate a summary.\n",
    "    \"\"\"\n",
    "    sents = preprocess_article(article)\n",
    "    if len(sents) < min_len:\n",
    "        return None\n",
    "    \n",
    "    embeddings, match_rate, sent_index = get_embedding_matrix(sents, vectors, agg='average')\n",
    "    embeddings = np.concatenate([e.reshape(1, -1) for e in embeddings], axis=0)\n",
    "    embeddings = StandardScaler().fit_transform(embeddings)\n",
    "\n",
    "    # find the centroid\n",
    "    KM = KMeans(n_clusters=n_topic)\n",
    "    KM.fit(embeddings)\n",
    "\n",
    "    centroids = KM.cluster_centers_   # (n centroids, embeddind shape)\n",
    "\n",
    "    # for each centroid, find the sentence with closest distance\n",
    "    summary = list()\n",
    "    for centroid in centroids:\n",
    "        idx = np.linalg.norm(embeddings - centroid, ord=2, axis=1).argmin()\n",
    "        idx = sent_index[idx]\n",
    "        summary.append((idx, sents[idx]))\n",
    "\n",
    "    summary = '。'.join(i[1] for i in sorted(summary))+'。'\n",
    "    return summary"
   ]
  },
  {
   "cell_type": "code",
   "execution_count": null,
   "metadata": {},
   "outputs": [],
   "source": []
  },
  {
   "cell_type": "markdown",
   "metadata": {},
   "source": [
    "# Get some samples"
   ]
  },
  {
   "cell_type": "code",
   "execution_count": 284,
   "metadata": {},
   "outputs": [],
   "source": [
    "import pandas as pd\n",
    "\n",
    "with open('../data/train_with_summ.txt', 'r', encoding='utf8') as f:\n",
    "    result = list()\n",
    "    for _ in range(50):\n",
    "        line = json.loads(f.readline().strip())\n",
    "        actual_summary = line['summarization']\n",
    "        gen_summary = generate_summary(line['article'], n_topic=2, min_len=25)\n",
    "        if gen_summary is not None:\n",
    "            result.append((gen_summary, actual_summary))\n",
    "    "
   ]
  },
  {
   "cell_type": "code",
   "execution_count": 286,
   "metadata": {},
   "outputs": [
    {
     "data": {
      "text/html": [
       "<div>\n",
       "<style scoped>\n",
       "    .dataframe tbody tr th:only-of-type {\n",
       "        vertical-align: middle;\n",
       "    }\n",
       "\n",
       "    .dataframe tbody tr th {\n",
       "        vertical-align: top;\n",
       "    }\n",
       "\n",
       "    .dataframe thead th {\n",
       "        text-align: right;\n",
       "    }\n",
       "</style>\n",
       "<table border=\"1\" class=\"dataframe\">\n",
       "  <thead>\n",
       "    <tr style=\"text-align: right;\">\n",
       "      <th></th>\n",
       "      <th>generated</th>\n",
       "      <th>actual</th>\n",
       "    </tr>\n",
       "  </thead>\n",
       "  <tbody>\n",
       "    <tr>\n",
       "      <td>0</td>\n",
       "      <td>对此，出版《计算机应用基础》的高等教育出版社表示，教材的编写错误率一般控制在万分之一，如果真...</td>\n",
       "      <td>广州一教师因挑出教科书68处错误受处分 学校称其混淆是非</td>\n",
       "    </tr>\n",
       "    <tr>\n",
       "      <td>1</td>\n",
       "      <td>凌晨3时30分许，杨某某在张某的陪同下随李某某等人先后来到海淀区金源时代购物中心的金鼎轩餐厅...</td>\n",
       "      <td>法院：李天一案判定李10年刑期属从轻处罚；李律师称要上诉：不能以口供定罪</td>\n",
       "    </tr>\n",
       "    <tr>\n",
       "      <td>2</td>\n",
       "      <td>东江科技一名参与原种场职工安置工作的前员工李双告诉《路标》君，该公司很早就关注原种场了，通过...</td>\n",
       "      <td>曲婉婷母亲张明杰负责国企改制时，涉嫌以6160万价格贱卖23亿元国有资产；曾因职工不同意改制...</td>\n",
       "    </tr>\n",
       "    <tr>\n",
       "      <td>3</td>\n",
       "      <td>湘财证券的一位医药行业分析师向21世纪网表示：“可能还是市场对于乙肝疫苗的恐慌心理造成股价的...</td>\n",
       "      <td>康泰生物已全面停产 掌舵人此前已举家移民加拿大</td>\n",
       "    </tr>\n",
       "    <tr>\n",
       "      <td>4</td>\n",
       "      <td>工作两年却相当于上了5年班，出意外到非定点医院治疗遭遇报销难题，老板“溜”了工人能否讨回工资...</td>\n",
       "      <td>约多上3年班，起诉获赔4.8万；公司合同实行标准工时制度，但近两年时间内，177天休息日都在...</td>\n",
       "    </tr>\n",
       "    <tr>\n",
       "      <td>5</td>\n",
       "      <td>老人已经九十多岁，听力衰退，但识得字，于是黄海波举着一块白色的写字板，在上面写下要问的问题：...</td>\n",
       "      <td>嫖娼案发生后的一年零两个月，曾经的“国民女婿”黄海波在做什么</td>\n",
       "    </tr>\n",
       "    <tr>\n",
       "      <td>6</td>\n",
       "      <td>公司一位姓程负责人指着一名40多岁的老外向其介绍，对方是海外买家，而且已看中丁先生其中的一幅...</td>\n",
       "      <td>艺术品公司设“雅局”套钱：70元画估价500万，涉事公司107家；谎称能送往港澳台拍卖，聘老...</td>\n",
       "    </tr>\n",
       "  </tbody>\n",
       "</table>\n",
       "</div>"
      ],
      "text/plain": [
       "                                           generated  \\\n",
       "0  对此，出版《计算机应用基础》的高等教育出版社表示，教材的编写错误率一般控制在万分之一，如果真...   \n",
       "1  凌晨3时30分许，杨某某在张某的陪同下随李某某等人先后来到海淀区金源时代购物中心的金鼎轩餐厅...   \n",
       "2  东江科技一名参与原种场职工安置工作的前员工李双告诉《路标》君，该公司很早就关注原种场了，通过...   \n",
       "3  湘财证券的一位医药行业分析师向21世纪网表示：“可能还是市场对于乙肝疫苗的恐慌心理造成股价的...   \n",
       "4  工作两年却相当于上了5年班，出意外到非定点医院治疗遭遇报销难题，老板“溜”了工人能否讨回工资...   \n",
       "5  老人已经九十多岁，听力衰退，但识得字，于是黄海波举着一块白色的写字板，在上面写下要问的问题：...   \n",
       "6  公司一位姓程负责人指着一名40多岁的老外向其介绍，对方是海外买家，而且已看中丁先生其中的一幅...   \n",
       "\n",
       "                                              actual  \n",
       "0                       广州一教师因挑出教科书68处错误受处分 学校称其混淆是非  \n",
       "1               法院：李天一案判定李10年刑期属从轻处罚；李律师称要上诉：不能以口供定罪  \n",
       "2  曲婉婷母亲张明杰负责国企改制时，涉嫌以6160万价格贱卖23亿元国有资产；曾因职工不同意改制...  \n",
       "3                            康泰生物已全面停产 掌舵人此前已举家移民加拿大  \n",
       "4  约多上3年班，起诉获赔4.8万；公司合同实行标准工时制度，但近两年时间内，177天休息日都在...  \n",
       "5                     嫖娼案发生后的一年零两个月，曾经的“国民女婿”黄海波在做什么  \n",
       "6  艺术品公司设“雅局”套钱：70元画估价500万，涉事公司107家；谎称能送往港澳台拍卖，聘老...  "
      ]
     },
     "execution_count": 286,
     "metadata": {},
     "output_type": "execute_result"
    }
   ],
   "source": [
    "result = pd.DataFrame(result)\n",
    "result.columns = ['generated', 'actual']\n",
    "result"
   ]
  },
  {
   "cell_type": "code",
   "execution_count": 289,
   "metadata": {},
   "outputs": [],
   "source": [
    "result.to_clipboard()"
   ]
  },
  {
   "cell_type": "code",
   "execution_count": null,
   "metadata": {},
   "outputs": [],
   "source": []
  },
  {
   "cell_type": "code",
   "execution_count": null,
   "metadata": {},
   "outputs": [],
   "source": []
  },
  {
   "cell_type": "code",
   "execution_count": null,
   "metadata": {},
   "outputs": [],
   "source": []
  },
  {
   "cell_type": "code",
   "execution_count": null,
   "metadata": {},
   "outputs": [],
   "source": []
  },
  {
   "cell_type": "code",
   "execution_count": null,
   "metadata": {},
   "outputs": [],
   "source": []
  }
 ],
 "metadata": {
  "kernelspec": {
   "display_name": "Python 3",
   "language": "python",
   "name": "python3"
  },
  "language_info": {
   "codemirror_mode": {
    "name": "ipython",
    "version": 3
   },
   "file_extension": ".py",
   "mimetype": "text/x-python",
   "name": "python",
   "nbconvert_exporter": "python",
   "pygments_lexer": "ipython3",
   "version": "3.7.0"
  }
 },
 "nbformat": 4,
 "nbformat_minor": 2
}
