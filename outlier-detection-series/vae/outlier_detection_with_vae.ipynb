{
 "cells": [
  {
   "cell_type": "code",
   "execution_count": 1,
   "metadata": {},
   "outputs": [],
   "source": [
    "!pip install tensorflow>=2.2.0\n",
    "# !pip install tensorflow_probability"
   ]
  },
  {
   "cell_type": "code",
   "execution_count": 1,
   "metadata": {},
   "outputs": [
    {
     "data": {
      "text/plain": [
       "'2.1.0'"
      ]
     },
     "execution_count": 1,
     "metadata": {},
     "output_type": "execute_result"
    }
   ],
   "source": [
    "import numpy as np\n",
    "import tensorflow as tf\n",
    "import tensorflow_probability as tfp\n",
    "import matplotlib.pyplot as plt\n",
    "%matplotlib inline\n",
    "\n",
    "tf.__version__"
   ]
  },
  {
   "cell_type": "code",
   "execution_count": null,
   "metadata": {},
   "outputs": [],
   "source": []
  },
  {
   "cell_type": "markdown",
   "metadata": {},
   "source": [
    "# Demo of VAE on MNIST"
   ]
  },
  {
   "cell_type": "code",
   "execution_count": 2,
   "metadata": {},
   "outputs": [],
   "source": [
    "train_size = 60000\n",
    "batch_size = 32\n",
    "test_size = 10000"
   ]
  },
  {
   "cell_type": "code",
   "execution_count": 3,
   "metadata": {},
   "outputs": [],
   "source": [
    "# use mnist as example\n",
    "(train_images, _), (test_images, _) = tf.keras.datasets.mnist.load_data()\n",
    "\n",
    "\n",
    "def preprocess_images(images):\n",
    "    images = images.reshape((images.shape[0], 28, 28, 1)) / 255.\n",
    "    return np.where(images > .5, 1.0, 0.0).astype('float32')\n",
    "\n",
    "train_images = preprocess_images(train_images)\n",
    "test_images = preprocess_images(test_images)\n",
    "\n",
    "train_dataset = (tf.data.Dataset.from_tensor_slices(train_images)\n",
    "                 .shuffle(train_size).batch(batch_size))\n",
    "test_dataset = (tf.data.Dataset.from_tensor_slices(test_images)\n",
    "                .shuffle(test_size).batch(batch_size))"
   ]
  },
  {
   "cell_type": "code",
   "execution_count": 4,
   "metadata": {},
   "outputs": [
    {
     "data": {
      "text/plain": [
       "<matplotlib.image.AxesImage at 0x63f795610>"
      ]
     },
     "execution_count": 4,
     "metadata": {},
     "output_type": "execute_result"
    },
    {
     "data": {
      "image/png": "[encoded data removed]",
      "text/plain": [
       "<Figure size 432x288 with 1 Axes>"
      ]
     },
     "metadata": {
      "needs_background": "light"
     },
     "output_type": "display_data"
    }
   ],
   "source": [
    "plt.imshow(train_images[0].squeeze(), cmap='gray')"
   ]
  },
  {
   "cell_type": "code",
   "execution_count": null,
   "metadata": {},
   "outputs": [],
   "source": []
  },
  {
   "cell_type": "code",
   "execution_count": 15,
   "metadata": {},
   "outputs": [],
   "source": [
    "def log_normal_pdf(sample, mean, logvar, raxis=1):\n",
    "    log2pi = tf.math.log(2. * np.pi)\n",
    "    return tf.reduce_sum(\n",
    "      -.5 * ((sample - mean) ** 2. * tf.exp(-logvar) + logvar + log2pi),\n",
    "      axis=raxis)\n",
    "\n",
    "\n",
    "class VAE(tf.keras.Model):\n",
    "\n",
    "    def __init__(self, latent_dim, opt=None):\n",
    "        super().__init__()\n",
    "        self.latent_dim = latent_dim\n",
    "        self.opt = opt or tf.keras.optimizers.Adam(1e-4)\n",
    "        self.encoder = tf.keras.Sequential(\n",
    "            [\n",
    "                tf.keras.layers.InputLayer(input_shape=(28, 28, 1)),\n",
    "                tf.keras.layers.Conv2D(\n",
    "                    filters=32, kernel_size=3, strides=(2, 2), activation='relu'),\n",
    "                tf.keras.layers.Conv2D(\n",
    "                    filters=64, kernel_size=3, strides=(2, 2), activation='relu'),\n",
    "                tf.keras.layers.Flatten(),\n",
    "                # No activation\n",
    "                tf.keras.layers.Dense(latent_dim + latent_dim),\n",
    "            ]\n",
    "        )\n",
    "\n",
    "        self.decoder = tf.keras.Sequential(\n",
    "            [\n",
    "                tf.keras.layers.InputLayer(input_shape=(latent_dim,)),\n",
    "                tf.keras.layers.Dense(units=7*7*32, activation=tf.nn.relu),\n",
    "                tf.keras.layers.Reshape(target_shape=(7, 7, 32)),\n",
    "                tf.keras.layers.Conv2DTranspose(\n",
    "                    filters=64, kernel_size=3, strides=2, padding='same',\n",
    "                    activation='relu'),\n",
    "                tf.keras.layers.Conv2DTranspose(\n",
    "                    filters=32, kernel_size=3, strides=2, padding='same',\n",
    "                    activation='relu'),\n",
    "                # No activation\n",
    "                tf.keras.layers.Conv2DTranspose(\n",
    "                    filters=1, kernel_size=3, strides=1, padding='same'),\n",
    "            ]\n",
    "        )\n",
    "        \n",
    "    def encode(self, x):\n",
    "        mean, logvar = tf.split(self.encoder(x), num_or_size_splits=2, axis=1)\n",
    "        return mean, logvar\n",
    "    \n",
    "    def decode(self, z):\n",
    "        logits = self.decoder(z)\n",
    "        return logits\n",
    "#         return tf.sigmoid(logits)\n",
    "    \n",
    "    @tf.function\n",
    "    def sample(self, n=100, eps=None):\n",
    "        if eps is None:\n",
    "            eps = tf.random.normal(shape=(n, self.latent_dim))\n",
    "        return self.decode(eps)\n",
    "    \n",
    "    def reparameterize(self, mean, logvar):\n",
    "        eps = tf.random.normal(shape=mean.shape)\n",
    "        return eps * tf.exp(logvar * 0.5) + mean\n",
    "    \n",
    "    @tf.function\n",
    "    def compute_loss(self, x):\n",
    "        mean, logvar = self.encode(x)\n",
    "        z = model.reparameterize(mean, logvar)\n",
    "        x_logit = self.decode(z)\n",
    "        cross_ent = tf.nn.sigmoid_cross_entropy_with_logits(logits=x_logit, labels=x)\n",
    "        logpx_z = -tf.reduce_sum(cross_ent, axis=[1, 2, 3])\n",
    "        logpz = log_normal_pdf(z, 0., 0.)\n",
    "        logqz_x = log_normal_pdf(z, mean, logvar)\n",
    "        return -tf.reduce_mean(logpx_z + logpz - logqz_x)\n",
    "    \n",
    "    @tf.function\n",
    "    def train(self, x):\n",
    "        with tf.GradientTape() as tape:\n",
    "            loss = self.compute_loss(x)\n",
    "        gradients = tape.gradient(loss, self.trainable_variables)\n",
    "        self.opt.apply_gradients(zip(gradients, self.trainable_variables))\n",
    "        return loss"
   ]
  },
  {
   "cell_type": "code",
   "execution_count": 16,
   "metadata": {},
   "outputs": [],
   "source": [
    "model = VAE(latent_dim=3)"
   ]
  },
  {
   "cell_type": "code",
   "execution_count": 17,
   "metadata": {},
   "outputs": [
    {
     "name": "stdout",
     "output_type": "stream",
     "text": [
      "Epoch 0, Step 0, Loss: 542.686767578125\n",
      "Epoch 0, Step 100, Loss: 407.926513671875\n",
      "Epoch 0, Step 200, Loss: 264.59503173828125\n",
      "Epoch 0, Step 300, Loss: 219.7979736328125\n",
      "Epoch 0, Step 400, Loss: 210.24435424804688\n",
      "Epoch 0, Step 500, Loss: 201.87814331054688\n",
      "Epoch 0, Step 600, Loss: 207.2767333984375\n",
      "Epoch 0, Step 700, Loss: 202.0150604248047\n",
      "Epoch 0, Step 800, Loss: 203.4485321044922\n",
      "Epoch 0, Step 900, Loss: 196.92193603515625\n",
      "Epoch 0, Step 1000, Loss: 194.33486938476562\n",
      "Epoch 0, Step 1100, Loss: 187.56553649902344\n",
      "Epoch 0, Step 1200, Loss: 176.79830932617188\n",
      "Epoch 0, Step 1300, Loss: 171.27064514160156\n",
      "Epoch 0, Step 1400, Loss: 183.76953125\n",
      "Epoch 0, Step 1500, Loss: 175.10414123535156\n",
      "Epoch 0, Step 1600, Loss: 176.72967529296875\n",
      "Epoch 0, Step 1700, Loss: 167.51351928710938\n",
      "Epoch 0, Step 1800, Loss: 173.41702270507812\n",
      "Epoch 1, Step 0, Loss: 186.98016357421875\n",
      "Epoch 1, Step 100, Loss: 164.63099670410156\n",
      "Epoch 1, Step 200, Loss: 159.73471069335938\n",
      "Epoch 1, Step 300, Loss: 153.12258911132812\n",
      "Epoch 1, Step 400, Loss: 149.81629943847656\n",
      "Epoch 1, Step 500, Loss: 156.98963928222656\n",
      "Epoch 1, Step 600, Loss: 157.05410766601562\n",
      "Epoch 1, Step 700, Loss: 159.7388916015625\n",
      "Epoch 1, Step 800, Loss: 169.67184448242188\n",
      "Epoch 1, Step 900, Loss: 157.05313110351562\n",
      "Epoch 1, Step 1000, Loss: 166.78575134277344\n",
      "Epoch 1, Step 1100, Loss: 166.4695587158203\n",
      "Epoch 1, Step 1200, Loss: 147.14413452148438\n",
      "Epoch 1, Step 1300, Loss: 160.50775146484375\n",
      "Epoch 1, Step 1400, Loss: 149.069091796875\n",
      "Epoch 1, Step 1500, Loss: 164.1848602294922\n",
      "Epoch 1, Step 1600, Loss: 145.836181640625\n",
      "Epoch 1, Step 1700, Loss: 150.9072723388672\n",
      "Epoch 1, Step 1800, Loss: 161.129638671875\n",
      "Epoch 2, Step 0, Loss: 163.34730529785156\n",
      "Epoch 2, Step 100, Loss: 148.7711639404297\n",
      "Epoch 2, Step 200, Loss: 147.87353515625\n",
      "Epoch 2, Step 300, Loss: 153.748779296875\n",
      "Epoch 2, Step 400, Loss: 153.5479736328125\n",
      "Epoch 2, Step 500, Loss: 139.76275634765625\n",
      "Epoch 2, Step 600, Loss: 154.49871826171875\n",
      "Epoch 2, Step 700, Loss: 153.16741943359375\n",
      "Epoch 2, Step 800, Loss: 143.1575164794922\n",
      "Epoch 2, Step 900, Loss: 136.2965545654297\n",
      "Epoch 2, Step 1000, Loss: 149.1377410888672\n",
      "Epoch 2, Step 1100, Loss: 148.495361328125\n",
      "Epoch 2, Step 1200, Loss: 151.64491271972656\n",
      "Epoch 2, Step 1300, Loss: 156.39508056640625\n",
      "Epoch 2, Step 1400, Loss: 161.1668243408203\n",
      "Epoch 2, Step 1500, Loss: 133.95596313476562\n",
      "Epoch 2, Step 1600, Loss: 142.68203735351562\n",
      "Epoch 2, Step 1700, Loss: 148.753173828125\n",
      "Epoch 2, Step 1800, Loss: 142.13075256347656\n",
      "Epoch 3, Step 0, Loss: 157.60745239257812\n",
      "Epoch 3, Step 100, Loss: 153.46029663085938\n",
      "Epoch 3, Step 200, Loss: 151.8968505859375\n",
      "Epoch 3, Step 300, Loss: 151.77157592773438\n",
      "Epoch 3, Step 400, Loss: 142.6728057861328\n",
      "Epoch 3, Step 500, Loss: 140.26629638671875\n",
      "Epoch 3, Step 600, Loss: 151.50497436523438\n",
      "Epoch 3, Step 700, Loss: 142.20733642578125\n",
      "Epoch 3, Step 800, Loss: 133.9871368408203\n",
      "Epoch 3, Step 900, Loss: 132.8052520751953\n",
      "Epoch 3, Step 1000, Loss: 142.62933349609375\n",
      "Epoch 3, Step 1100, Loss: 158.82223510742188\n",
      "Epoch 3, Step 1200, Loss: 151.55213928222656\n",
      "Epoch 3, Step 1300, Loss: 145.35787963867188\n",
      "Epoch 3, Step 1400, Loss: 151.8812255859375\n",
      "Epoch 3, Step 1500, Loss: 147.18826293945312\n",
      "Epoch 3, Step 1600, Loss: 137.38864135742188\n",
      "Epoch 3, Step 1700, Loss: 141.8302459716797\n",
      "Epoch 3, Step 1800, Loss: 136.40646362304688\n",
      "Epoch 4, Step 0, Loss: 144.13986206054688\n",
      "Epoch 4, Step 100, Loss: 150.49342346191406\n",
      "Epoch 4, Step 200, Loss: 146.91590881347656\n",
      "Epoch 4, Step 300, Loss: 139.55599975585938\n",
      "Epoch 4, Step 400, Loss: 132.05047607421875\n",
      "Epoch 4, Step 500, Loss: 137.1151123046875\n",
      "Epoch 4, Step 600, Loss: 142.81138610839844\n",
      "Epoch 4, Step 700, Loss: 156.41847229003906\n",
      "Epoch 4, Step 800, Loss: 138.6715087890625\n",
      "Epoch 4, Step 900, Loss: 153.18797302246094\n",
      "Epoch 4, Step 1000, Loss: 140.5245819091797\n",
      "Epoch 4, Step 1100, Loss: 163.125244140625\n",
      "Epoch 4, Step 1200, Loss: 148.98403930664062\n",
      "Epoch 4, Step 1300, Loss: 156.7497100830078\n",
      "Epoch 4, Step 1400, Loss: 122.6655044555664\n",
      "Epoch 4, Step 1500, Loss: 142.96774291992188\n",
      "Epoch 4, Step 1600, Loss: 145.62200927734375\n",
      "Epoch 4, Step 1700, Loss: 152.47108459472656\n",
      "Epoch 4, Step 1800, Loss: 139.8643798828125\n",
      "Epoch 5, Step 0, Loss: 155.3446502685547\n",
      "Epoch 5, Step 100, Loss: 138.34356689453125\n",
      "Epoch 5, Step 200, Loss: 127.98287200927734\n",
      "Epoch 5, Step 300, Loss: 153.77928161621094\n",
      "Epoch 5, Step 400, Loss: 146.04714965820312\n",
      "Epoch 5, Step 500, Loss: 135.91268920898438\n",
      "Epoch 5, Step 600, Loss: 131.79824829101562\n",
      "Epoch 5, Step 700, Loss: 140.21444702148438\n",
      "Epoch 5, Step 800, Loss: 145.09255981445312\n",
      "Epoch 5, Step 900, Loss: 151.74058532714844\n",
      "Epoch 5, Step 1000, Loss: 147.505126953125\n",
      "Epoch 5, Step 1100, Loss: 144.5439453125\n",
      "Epoch 5, Step 1200, Loss: 145.96376037597656\n",
      "Epoch 5, Step 1300, Loss: 128.13937377929688\n",
      "Epoch 5, Step 1400, Loss: 156.79835510253906\n",
      "Epoch 5, Step 1500, Loss: 146.30877685546875\n",
      "Epoch 5, Step 1600, Loss: 148.2559051513672\n",
      "Epoch 5, Step 1700, Loss: 126.27369689941406\n",
      "Epoch 5, Step 1800, Loss: 148.13394165039062\n",
      "Epoch 6, Step 0, Loss: 153.88284301757812\n",
      "Epoch 6, Step 100, Loss: 135.06582641601562\n",
      "Epoch 6, Step 200, Loss: 140.8702392578125\n",
      "Epoch 6, Step 300, Loss: 137.63909912109375\n",
      "Epoch 6, Step 400, Loss: 157.48385620117188\n",
      "Epoch 6, Step 500, Loss: 133.4044952392578\n",
      "Epoch 6, Step 600, Loss: 128.55117797851562\n",
      "Epoch 6, Step 700, Loss: 136.2996826171875\n",
      "Epoch 6, Step 800, Loss: 147.1484375\n",
      "Epoch 6, Step 900, Loss: 129.26622009277344\n",
      "Epoch 6, Step 1000, Loss: 131.9381103515625\n",
      "Epoch 6, Step 1100, Loss: 138.87564086914062\n",
      "Epoch 6, Step 1200, Loss: 144.06591796875\n",
      "Epoch 6, Step 1300, Loss: 133.35079956054688\n",
      "Epoch 6, Step 1400, Loss: 134.75172424316406\n",
      "Epoch 6, Step 1500, Loss: 114.00149536132812\n",
      "Epoch 6, Step 1600, Loss: 120.04864501953125\n",
      "Epoch 6, Step 1700, Loss: 118.83168029785156\n",
      "Epoch 6, Step 1800, Loss: 140.65451049804688\n",
      "Epoch 7, Step 0, Loss: 131.25131225585938\n",
      "Epoch 7, Step 100, Loss: 155.0531463623047\n",
      "Epoch 7, Step 200, Loss: 138.56307983398438\n",
      "Epoch 7, Step 300, Loss: 139.4593963623047\n",
      "Epoch 7, Step 400, Loss: 134.9582977294922\n",
      "Epoch 7, Step 500, Loss: 134.85067749023438\n",
      "Epoch 7, Step 600, Loss: 136.57717895507812\n",
      "Epoch 7, Step 700, Loss: 135.8787841796875\n",
      "Epoch 7, Step 800, Loss: 135.91476440429688\n",
      "Epoch 7, Step 900, Loss: 130.19895935058594\n",
      "Epoch 7, Step 1000, Loss: 131.23033142089844\n",
      "Epoch 7, Step 1100, Loss: 152.85586547851562\n",
      "Epoch 7, Step 1200, Loss: 136.10723876953125\n",
      "Epoch 7, Step 1300, Loss: 128.593017578125\n",
      "Epoch 7, Step 1400, Loss: 150.12240600585938\n",
      "Epoch 7, Step 1500, Loss: 141.82237243652344\n",
      "Epoch 7, Step 1600, Loss: 135.49986267089844\n",
      "Epoch 7, Step 1700, Loss: 142.18170166015625\n",
      "Epoch 7, Step 1800, Loss: 144.46556091308594\n",
      "Epoch 8, Step 0, Loss: 141.3543701171875\n",
      "Epoch 8, Step 100, Loss: 136.35450744628906\n",
      "Epoch 8, Step 200, Loss: 151.04782104492188\n",
      "Epoch 8, Step 300, Loss: 137.38543701171875\n",
      "Epoch 8, Step 400, Loss: 134.94537353515625\n",
      "Epoch 8, Step 500, Loss: 136.895263671875\n",
      "Epoch 8, Step 600, Loss: 150.18153381347656\n",
      "Epoch 8, Step 700, Loss: 144.57749938964844\n",
      "Epoch 8, Step 800, Loss: 130.5440673828125\n",
      "Epoch 8, Step 900, Loss: 148.21124267578125\n",
      "Epoch 8, Step 1000, Loss: 150.71905517578125\n",
      "Epoch 8, Step 1100, Loss: 143.30398559570312\n",
      "Epoch 8, Step 1200, Loss: 165.66104125976562\n",
      "Epoch 8, Step 1300, Loss: 150.35357666015625\n",
      "Epoch 8, Step 1400, Loss: 157.04110717773438\n",
      "Epoch 8, Step 1500, Loss: 150.63644409179688\n",
      "Epoch 8, Step 1600, Loss: 158.2554473876953\n",
      "Epoch 8, Step 1700, Loss: 142.87850952148438\n",
      "Epoch 8, Step 1800, Loss: 130.61766052246094\n",
      "Epoch 9, Step 0, Loss: 149.14315795898438\n",
      "Epoch 9, Step 100, Loss: 145.8337860107422\n",
      "Epoch 9, Step 200, Loss: 130.87400817871094\n",
      "Epoch 9, Step 300, Loss: 133.25218200683594\n",
      "Epoch 9, Step 400, Loss: 146.25997924804688\n",
      "Epoch 9, Step 500, Loss: 145.71279907226562\n",
      "Epoch 9, Step 600, Loss: 149.73904418945312\n",
      "Epoch 9, Step 700, Loss: 144.7948455810547\n",
      "Epoch 9, Step 800, Loss: 132.6101837158203\n",
      "Epoch 9, Step 900, Loss: 144.55877685546875\n",
      "Epoch 9, Step 1000, Loss: 139.5421600341797\n",
      "Epoch 9, Step 1100, Loss: 147.50706481933594\n",
      "Epoch 9, Step 1200, Loss: 130.19989013671875\n",
      "Epoch 9, Step 1300, Loss: 129.18759155273438\n",
      "Epoch 9, Step 1400, Loss: 154.0364227294922\n",
      "Epoch 9, Step 1500, Loss: 148.97982788085938\n"
     ]
    },
    {
     "name": "stdout",
     "output_type": "stream",
     "text": [
      "Epoch 9, Step 1600, Loss: 114.23011779785156\n",
      "Epoch 9, Step 1700, Loss: 149.72698974609375\n",
      "Epoch 9, Step 1800, Loss: 138.80377197265625\n"
     ]
    }
   ],
   "source": [
    "epochs = 10\n",
    "\n",
    "for e in range(epochs):\n",
    "    for i, x in enumerate(train_dataset):\n",
    "        loss = model.train(x)\n",
    "        if i % 100 == 0:\n",
    "            print(f'Epoch {e}, Step {i}, Loss: {loss}')"
   ]
  },
  {
   "cell_type": "code",
   "execution_count": null,
   "metadata": {},
   "outputs": [],
   "source": []
  },
  {
   "cell_type": "code",
   "execution_count": 20,
   "metadata": {},
   "outputs": [
    {
     "data": {
      "text/plain": [
       "<matplotlib.image.AxesImage at 0x63f8c7b10>"
      ]
     },
     "execution_count": 20,
     "metadata": {},
     "output_type": "execute_result"
    },
    {
     "data": {
      "image/png": "[encoded data removed]",
      "text/plain": [
       "<Figure size 432x288 with 1 Axes>"
      ]
     },
     "metadata": {
      "needs_background": "light"
     },
     "output_type": "display_data"
    }
   ],
   "source": [
    "plt.imshow(model.sample(n=2)[1].numpy().squeeze())"
   ]
  },
  {
   "cell_type": "code",
   "execution_count": null,
   "metadata": {},
   "outputs": [],
   "source": []
  },
  {
   "cell_type": "code",
   "execution_count": null,
   "metadata": {},
   "outputs": [],
   "source": []
  },
  {
   "cell_type": "code",
   "execution_count": null,
   "metadata": {},
   "outputs": [],
   "source": []
  },
  {
   "cell_type": "code",
   "execution_count": null,
   "metadata": {},
   "outputs": [],
   "source": []
  }
 ],
 "metadata": {
  "kernelspec": {
   "display_name": "Python 3",
   "language": "python",
   "name": "python3"
  },
  "language_info": {
   "codemirror_mode": {
    "name": "ipython",
    "version": 3
   },
   "file_extension": ".py",
   "mimetype": "text/x-python",
   "name": "python",
   "nbconvert_exporter": "python",
   "pygments_lexer": "ipython3",
   "version": "3.7.4"
  }
 },
 "nbformat": 4,
 "nbformat_minor": 2
}
