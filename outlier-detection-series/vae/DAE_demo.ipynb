{
 "cells": [
  {
   "cell_type": "code",
   "execution_count": 25,
   "metadata": {},
   "outputs": [
    {
     "data": {
      "text/plain": [
       "'2.1.0'"
      ]
     },
     "execution_count": 25,
     "metadata": {},
     "output_type": "execute_result"
    }
   ],
   "source": [
    "import tensorflow as tf\n",
    "import numpy as np\n",
    "from typing import *\n",
    "from pathlib import Path\n",
    "\n",
    "import matplotlib.image as mpimg \n",
    "import matplotlib.pyplot as plt \n",
    "%matplotlib inline\n",
    "\n",
    "\n",
    "tf.__version__"
   ]
  },
  {
   "cell_type": "code",
   "execution_count": null,
   "metadata": {},
   "outputs": [],
   "source": []
  },
  {
   "cell_type": "code",
   "execution_count": 20,
   "metadata": {},
   "outputs": [],
   "source": [
    "path = Path('./data/denoising-dirty-documents/')\n",
    "\n",
    "def get_image_pairs() -> List[Tuple[str, str]]:\n",
    "    \"\"\" Return a list of tuple (dirty document, clean document)\"\"\"\n",
    "    for i in range(1, 220):\n",
    "        dirty_doc = path / 'train' / '{}.png'.format(i)\n",
    "        clean_doc = path / 'train_cleaned' / '{}.png'.format(i)\n",
    "        if dirty_doc.exists():\n",
    "            yield str(dirty_doc), str(clean_doc)"
   ]
  },
  {
   "cell_type": "code",
   "execution_count": 23,
   "metadata": {},
   "outputs": [
    {
     "data": {
      "text/plain": [
       "('data/denoising-dirty-documents/train/2.png',\n",
       " 'data/denoising-dirty-documents/train_cleaned/2.png')"
      ]
     },
     "execution_count": 23,
     "metadata": {},
     "output_type": "execute_result"
    }
   ],
   "source": [
    "next(get_image_pairs())"
   ]
  },
  {
   "cell_type": "code",
   "execution_count": 33,
   "metadata": {},
   "outputs": [],
   "source": [
    "dirty_doc = mpimg.imread('data/denoising-dirty-documents/train/2.png')\n",
    "clean_doc = mpimg.imread('data/denoising-dirty-documents/train_cleaned/2.png')"
   ]
  },
  {
   "cell_type": "code",
   "execution_count": null,
   "metadata": {},
   "outputs": [],
   "source": [
    "# (420, 540)"
   ]
  },
  {
   "cell_type": "code",
   "execution_count": null,
   "metadata": {},
   "outputs": [],
   "source": []
  },
  {
   "cell_type": "code",
   "execution_count": null,
   "metadata": {},
   "outputs": [],
   "source": []
  },
  {
   "cell_type": "code",
   "execution_count": null,
   "metadata": {},
   "outputs": [],
   "source": [
    "# def build_autoenocder():\n",
    "#     input_img = Input(shape=(420,540,1), name='image_input')\n",
    "    \n",
    "#     #enoder \n",
    "#     x = Conv2D(32, (3,3), activation='relu', padding='same', name='Conv1')(input_img)\n",
    "#     x = MaxPooling2D((2,2), padding='same', name='pool1')(x)\n",
    "#     x = Conv2D(64, (3,3), activation='relu', padding='same', name='Conv2')(x)\n",
    "#     x = MaxPooling2D((2,2), padding='same', name='pool2')(x)\n",
    "    \n",
    "#     #decoder\n",
    "#     x = Conv2D(64, (3,3), activation='relu', padding='same', name='Conv3')(x)\n",
    "#     x = UpSampling2D((2,2), name='upsample1')(x)\n",
    "#     x = Conv2D(32, (3,3), activation='relu', padding='same', name='Conv4')(x)\n",
    "#     x = UpSampling2D((2,2), name='upsample2')(x)\n",
    "#     x = Conv2D(1, (3,3), activation='sigmoid', padding='same', name='Conv5')(x)\n",
    "    \n",
    "#     #model\n",
    "#     autoencoder = Model(inputs=input_img, outputs=x)\n",
    "#     autoencoder.compile(optimizer='adam', loss='binary_crossentropy')\n",
    "#     return autoencoder"
   ]
  },
  {
   "cell_type": "code",
   "execution_count": null,
   "metadata": {},
   "outputs": [],
   "source": []
  },
  {
   "cell_type": "code",
   "execution_count": null,
   "metadata": {},
   "outputs": [],
   "source": []
  },
  {
   "cell_type": "code",
   "execution_count": null,
   "metadata": {},
   "outputs": [],
   "source": []
  },
  {
   "cell_type": "code",
   "execution_count": null,
   "metadata": {},
   "outputs": [],
   "source": []
  },
  {
   "cell_type": "code",
   "execution_count": null,
   "metadata": {},
   "outputs": [],
   "source": []
  },
  {
   "cell_type": "code",
   "execution_count": null,
   "metadata": {},
   "outputs": [],
   "source": []
  },
  {
   "cell_type": "code",
   "execution_count": null,
   "metadata": {},
   "outputs": [],
   "source": []
  },
  {
   "cell_type": "code",
   "execution_count": 4,
   "metadata": {},
   "outputs": [],
   "source": []
  },
  {
   "cell_type": "code",
   "execution_count": null,
   "metadata": {},
   "outputs": [],
   "source": []
  },
  {
   "cell_type": "code",
   "execution_count": null,
   "metadata": {},
   "outputs": [],
   "source": []
  },
  {
   "cell_type": "code",
   "execution_count": null,
   "metadata": {},
   "outputs": [],
   "source": []
  },
  {
   "cell_type": "code",
   "execution_count": null,
   "metadata": {},
   "outputs": [],
   "source": []
  },
  {
   "cell_type": "code",
   "execution_count": null,
   "metadata": {},
   "outputs": [],
   "source": []
  }
 ],
 "metadata": {
  "kernelspec": {
   "display_name": "Python 3",
   "language": "python",
   "name": "python3"
  },
  "language_info": {
   "codemirror_mode": {
    "name": "ipython",
    "version": 3
   },
   "file_extension": ".py",
   "mimetype": "text/x-python",
   "name": "python",
   "nbconvert_exporter": "python",
   "pygments_lexer": "ipython3",
   "version": "3.7.4"
  }
 },
 "nbformat": 4,
 "nbformat_minor": 2
}
