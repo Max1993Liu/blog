{
 "cells": [
  {
   "cell_type": "code",
   "execution_count": 4,
   "metadata": {},
   "outputs": [],
   "source": [
    "from dowhy import CausalModel\n",
    "import dowhy.datasets"
   ]
  },
  {
   "cell_type": "code",
   "execution_count": 5,
   "metadata": {},
   "outputs": [],
   "source": [
    "data = dowhy.datasets.linear_dataset(\n",
    "    beta=10,\n",
    "    num_common_causes=5,\n",
    "    num_instruments=2,\n",
    "    num_samples=10000,\n",
    "    treatment_is_binary=True)"
   ]
  },
  {
   "cell_type": "code",
   "execution_count": 7,
   "metadata": {},
   "outputs": [
    {
     "data": {
      "text/html": [
       "<div>\n",
       "<style scoped>\n",
       "    .dataframe tbody tr th:only-of-type {\n",
       "        vertical-align: middle;\n",
       "    }\n",
       "\n",
       "    .dataframe tbody tr th {\n",
       "        vertical-align: top;\n",
       "    }\n",
       "\n",
       "    .dataframe thead th {\n",
       "        text-align: right;\n",
       "    }\n",
       "</style>\n",
       "<table border=\"1\" class=\"dataframe\">\n",
       "  <thead>\n",
       "    <tr style=\"text-align: right;\">\n",
       "      <th></th>\n",
       "      <th>Z0</th>\n",
       "      <th>Z1</th>\n",
       "      <th>W0</th>\n",
       "      <th>W1</th>\n",
       "      <th>W2</th>\n",
       "      <th>W3</th>\n",
       "      <th>W4</th>\n",
       "      <th>v0</th>\n",
       "      <th>y</th>\n",
       "    </tr>\n",
       "  </thead>\n",
       "  <tbody>\n",
       "    <tr>\n",
       "      <td>0</td>\n",
       "      <td>1.0</td>\n",
       "      <td>0.080895</td>\n",
       "      <td>2.400996</td>\n",
       "      <td>0.047707</td>\n",
       "      <td>-0.783962</td>\n",
       "      <td>0.193666</td>\n",
       "      <td>-1.598630</td>\n",
       "      <td>True</td>\n",
       "      <td>5.566691</td>\n",
       "    </tr>\n",
       "    <tr>\n",
       "      <td>1</td>\n",
       "      <td>0.0</td>\n",
       "      <td>0.540823</td>\n",
       "      <td>1.454359</td>\n",
       "      <td>0.782785</td>\n",
       "      <td>-0.571562</td>\n",
       "      <td>0.595711</td>\n",
       "      <td>0.998581</td>\n",
       "      <td>True</td>\n",
       "      <td>17.378715</td>\n",
       "    </tr>\n",
       "    <tr>\n",
       "      <td>2</td>\n",
       "      <td>1.0</td>\n",
       "      <td>0.980780</td>\n",
       "      <td>1.645814</td>\n",
       "      <td>0.233846</td>\n",
       "      <td>-0.641987</td>\n",
       "      <td>-0.624086</td>\n",
       "      <td>-0.473735</td>\n",
       "      <td>True</td>\n",
       "      <td>7.665113</td>\n",
       "    </tr>\n",
       "    <tr>\n",
       "      <td>3</td>\n",
       "      <td>1.0</td>\n",
       "      <td>0.375576</td>\n",
       "      <td>0.887653</td>\n",
       "      <td>-0.329081</td>\n",
       "      <td>0.830481</td>\n",
       "      <td>0.294538</td>\n",
       "      <td>0.787878</td>\n",
       "      <td>True</td>\n",
       "      <td>17.449396</td>\n",
       "    </tr>\n",
       "    <tr>\n",
       "      <td>4</td>\n",
       "      <td>1.0</td>\n",
       "      <td>0.207933</td>\n",
       "      <td>0.672523</td>\n",
       "      <td>-1.626317</td>\n",
       "      <td>-1.165374</td>\n",
       "      <td>-1.970357</td>\n",
       "      <td>0.193075</td>\n",
       "      <td>True</td>\n",
       "      <td>-0.587384</td>\n",
       "    </tr>\n",
       "    <tr>\n",
       "      <td>...</td>\n",
       "      <td>...</td>\n",
       "      <td>...</td>\n",
       "      <td>...</td>\n",
       "      <td>...</td>\n",
       "      <td>...</td>\n",
       "      <td>...</td>\n",
       "      <td>...</td>\n",
       "      <td>...</td>\n",
       "      <td>...</td>\n",
       "    </tr>\n",
       "    <tr>\n",
       "      <td>9995</td>\n",
       "      <td>0.0</td>\n",
       "      <td>0.984076</td>\n",
       "      <td>1.318000</td>\n",
       "      <td>-1.803981</td>\n",
       "      <td>-0.326563</td>\n",
       "      <td>-1.692110</td>\n",
       "      <td>-0.879131</td>\n",
       "      <td>True</td>\n",
       "      <td>-0.393177</td>\n",
       "    </tr>\n",
       "    <tr>\n",
       "      <td>9996</td>\n",
       "      <td>0.0</td>\n",
       "      <td>0.450418</td>\n",
       "      <td>3.176373</td>\n",
       "      <td>1.287747</td>\n",
       "      <td>1.228447</td>\n",
       "      <td>0.440419</td>\n",
       "      <td>0.399841</td>\n",
       "      <td>True</td>\n",
       "      <td>25.154229</td>\n",
       "    </tr>\n",
       "    <tr>\n",
       "      <td>9997</td>\n",
       "      <td>0.0</td>\n",
       "      <td>0.964247</td>\n",
       "      <td>-0.845314</td>\n",
       "      <td>0.039851</td>\n",
       "      <td>0.498926</td>\n",
       "      <td>-0.537108</td>\n",
       "      <td>2.349822</td>\n",
       "      <td>True</td>\n",
       "      <td>18.289628</td>\n",
       "    </tr>\n",
       "    <tr>\n",
       "      <td>9998</td>\n",
       "      <td>0.0</td>\n",
       "      <td>0.823094</td>\n",
       "      <td>2.345060</td>\n",
       "      <td>-0.063328</td>\n",
       "      <td>0.137073</td>\n",
       "      <td>-1.310415</td>\n",
       "      <td>0.336141</td>\n",
       "      <td>True</td>\n",
       "      <td>12.473114</td>\n",
       "    </tr>\n",
       "    <tr>\n",
       "      <td>9999</td>\n",
       "      <td>1.0</td>\n",
       "      <td>0.632341</td>\n",
       "      <td>1.038404</td>\n",
       "      <td>0.082359</td>\n",
       "      <td>-0.114949</td>\n",
       "      <td>1.195308</td>\n",
       "      <td>1.967295</td>\n",
       "      <td>True</td>\n",
       "      <td>21.900324</td>\n",
       "    </tr>\n",
       "  </tbody>\n",
       "</table>\n",
       "<p>10000 rows × 9 columns</p>\n",
       "</div>"
      ],
      "text/plain": [
       "       Z0        Z1        W0        W1        W2        W3        W4    v0  \\\n",
       "0     1.0  0.080895  2.400996  0.047707 -0.783962  0.193666 -1.598630  True   \n",
       "1     0.0  0.540823  1.454359  0.782785 -0.571562  0.595711  0.998581  True   \n",
       "2     1.0  0.980780  1.645814  0.233846 -0.641987 -0.624086 -0.473735  True   \n",
       "3     1.0  0.375576  0.887653 -0.329081  0.830481  0.294538  0.787878  True   \n",
       "4     1.0  0.207933  0.672523 -1.626317 -1.165374 -1.970357  0.193075  True   \n",
       "...   ...       ...       ...       ...       ...       ...       ...   ...   \n",
       "9995  0.0  0.984076  1.318000 -1.803981 -0.326563 -1.692110 -0.879131  True   \n",
       "9996  0.0  0.450418  3.176373  1.287747  1.228447  0.440419  0.399841  True   \n",
       "9997  0.0  0.964247 -0.845314  0.039851  0.498926 -0.537108  2.349822  True   \n",
       "9998  0.0  0.823094  2.345060 -0.063328  0.137073 -1.310415  0.336141  True   \n",
       "9999  1.0  0.632341  1.038404  0.082359 -0.114949  1.195308  1.967295  True   \n",
       "\n",
       "              y  \n",
       "0      5.566691  \n",
       "1     17.378715  \n",
       "2      7.665113  \n",
       "3     17.449396  \n",
       "4     -0.587384  \n",
       "...         ...  \n",
       "9995  -0.393177  \n",
       "9996  25.154229  \n",
       "9997  18.289628  \n",
       "9998  12.473114  \n",
       "9999  21.900324  \n",
       "\n",
       "[10000 rows x 9 columns]"
      ]
     },
     "execution_count": 7,
     "metadata": {},
     "output_type": "execute_result"
    }
   ],
   "source": [
    "data['df']"
   ]
  },
  {
   "cell_type": "code",
   "execution_count": 18,
   "metadata": {},
   "outputs": [
    {
     "data": {
      "text/plain": [
       "(['v0'], 'y', ['W0', 'W1', 'W2', 'W3', 'W4'], ['Z0', 'Z1'])"
      ]
     },
     "execution_count": 18,
     "metadata": {},
     "output_type": "execute_result"
    }
   ],
   "source": [
    "data['treatment_name'], data['outcome_name'], data['common_causes_names'], data['instrument_names']"
   ]
  },
  {
   "cell_type": "code",
   "execution_count": 20,
   "metadata": {},
   "outputs": [
    {
     "data": {
      "text/plain": [
       "'graph[directed 1node[ id \"y\" label \"y\"]node[ id \"Unobserved Confounders\" label \"Unobserved Confounders\"]edge[source \"Unobserved Confounders\" target \"y\"]node[ id \"W0\" label \"W0\"] node[ id \"W1\" label \"W1\"] node[ id \"W2\" label \"W2\"] node[ id \"W3\" label \"W3\"] node[ id \"W4\" label \"W4\"]node[ id \"Z0\" label \"Z0\"] node[ id \"Z1\" label \"Z1\"]node[ id \"v0\" label \"v0\"]edge[source \"v0\" target \"y\"]edge[source \"Unobserved Confounders\" target \"v0\"]edge[ source \"W0\" target \"v0\"] edge[ source \"W1\" target \"v0\"] edge[ source \"W2\" target \"v0\"] edge[ source \"W3\" target \"v0\"] edge[ source \"W4\" target \"v0\"]edge[ source \"Z0\" target \"v0\"] edge[ source \"Z1\" target \"v0\"]edge[ source \"W0\" target \"y\"] edge[ source \"W1\" target \"y\"] edge[ source \"W2\" target \"y\"] edge[ source \"W3\" target \"y\"] edge[ source \"W4\" target \"y\"]]'"
      ]
     },
     "execution_count": 20,
     "metadata": {},
     "output_type": "execute_result"
    }
   ],
   "source": [
    "data['gml_graph']"
   ]
  },
  {
   "cell_type": "code",
   "execution_count": 19,
   "metadata": {},
   "outputs": [
    {
     "name": "stderr",
     "output_type": "stream",
     "text": [
      "INFO:dowhy.causal_model:Model to find the causal effect of treatment ['v0'] on outcome ['y']\n"
     ]
    }
   ],
   "source": [
    "model = CausalModel(\n",
    "    data=data[\"df\"],\n",
    "    treatment=data[\"treatment_name\"],\n",
    "    outcome=data[\"outcome_name\"],\n",
    "    graph=data[\"gml_graph\"])"
   ]
  },
  {
   "cell_type": "code",
   "execution_count": 21,
   "metadata": {},
   "outputs": [
    {
     "name": "stderr",
     "output_type": "stream",
     "text": [
      "INFO:dowhy.causal_identifier:Common causes of treatment and outcome:['W2', 'W0', 'W1', 'Unobserved Confounders', 'W3', 'W4']\n",
      "WARNING:dowhy.causal_identifier:If this is observed data (not from a randomized experiment), there might always be missing confounders. Causal effect cannot be identified perfectly.\n"
     ]
    },
    {
     "name": "stdout",
     "output_type": "stream",
     "text": [
      "WARN: Do you want to continue by ignoring any unobserved confounders? (use proceed_when_unidentifiable=True to disable this prompt) [y/n] y\n"
     ]
    },
    {
     "name": "stderr",
     "output_type": "stream",
     "text": [
      "INFO:dowhy.causal_identifier:Instrumental variables for treatment and outcome:['Z1', 'Z0']\n"
     ]
    }
   ],
   "source": [
    "identified_estimand = model.identify_effect()"
   ]
  },
  {
   "cell_type": "code",
   "execution_count": null,
   "metadata": {},
   "outputs": [],
   "source": [
    "estimate = model.estimate_effect(identified_estimand,\n",
    "                                 method_name=\"backdoor.propensity_score_matching\")"
   ]
  },
  {
   "cell_type": "code",
   "execution_count": null,
   "metadata": {},
   "outputs": [],
   "source": []
  }
 ],
 "metadata": {
  "kernelspec": {
   "display_name": "Python 3",
   "language": "python",
   "name": "python3"
  },
  "language_info": {
   "codemirror_mode": {
    "name": "ipython",
    "version": 3
   },
   "file_extension": ".py",
   "mimetype": "text/x-python",
   "name": "python",
   "nbconvert_exporter": "python",
   "pygments_lexer": "ipython3",
   "version": "3.7.4"
  }
 },
 "nbformat": 4,
 "nbformat_minor": 2
}
